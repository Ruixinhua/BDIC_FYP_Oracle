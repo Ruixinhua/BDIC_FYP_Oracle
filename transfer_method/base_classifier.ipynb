{
 "cells": [
  {
   "cell_type": "code",
   "execution_count": 1,
   "metadata": {
    "collapsed": true
   },
   "outputs": [],
   "source": [
    "import torch\n",
    "import torch.nn as nn\n",
    "import torchvision\n",
    "from torch.utils.data import DataLoader\n",
    "from torchvision.transforms import transforms\n",
    "import os\n",
    "import tools\n",
    "from models.xception import Xception"
   ]
  },
  {
   "cell_type": "code",
   "execution_count": 2,
   "outputs": [],
   "source": [
    "# set GPU device\n",
    "device = torch.device(\"cuda:0\" if torch.cuda.is_available() else \"cpu\")\n",
    "data_root_dir = \"C:\\\\Users\\\\Rui\\\\Documents\\\\dataset\\\\classify\\\\jia\""
   ],
   "metadata": {
    "collapsed": false,
    "pycharm": {
     "name": "#%%\n"
    }
   }
  },
  {
   "cell_type": "code",
   "execution_count": 8,
   "outputs": [],
   "source": [
    "# 训练函数\n",
    "def net_train(net, train_loader, criterion, optimizer, output, epoch):\n",
    "    net.train()\n",
    "    # initial loss\n",
    "    running_loss = 0.0\n",
    "    for i, data in enumerate(train_loader, 0):\n",
    "        # 将输入传入GPU\n",
    "        inputs, labels = data[0].to(device=device), data[1].to(device=device)\n",
    "\n",
    "        # 将梯度置零\n",
    "        optimizer.zero_grad()\n",
    "\n",
    "        # 前向传播-计算误差-反向传播-优化\n",
    "        outputs = net(inputs)\n",
    "        loss = criterion(outputs, labels)\n",
    "        loss.backward()\n",
    "        optimizer.step()\n",
    "        # 计算误差并显示\n",
    "        running_loss += loss.item()\n",
    "        if (i + 1) % 100 == 0:  # tools.print_log loss every 100 times\n",
    "            tools.print_log(\"epoch %s, iteration %s, loss: %.3f\" % (epoch + 1, i + 1, running_loss / 100), file=output)\n",
    "            running_loss = 0.0\n",
    "\n",
    "    tools.print_log(\"Training Epoch Finished\", file=output)"
   ],
   "metadata": {
    "collapsed": false,
    "pycharm": {
     "name": "#%%\n"
    }
   }
  },
  {
   "cell_type": "code",
   "execution_count": 4,
   "outputs": [],
   "source": [
    "# 测试函数\n",
    "def net_test(net, test_loader, output):\n",
    "    correct = 0.0\n",
    "    total = 0.0\n",
    "    # 关闭梯度\n",
    "    with torch.no_grad():\n",
    "        for data in test_loader:\n",
    "            images, labels = data[0].to(device=device), data[1].to(device=device)\n",
    "            outputs = net(images)\n",
    "            _, predicted = torch.max(outputs.data, 1)\n",
    "            total += labels.size(0)\n",
    "            correct += (predicted == labels).sum().item()\n",
    "    precision = 100 * correct / total\n",
    "    tools.print_log(\"Current accuracy of the network test: %s %%\" % precision, file=output)\n",
    "    return precision"
   ],
   "metadata": {
    "collapsed": false,
    "pycharm": {
     "name": "#%%\n"
    }
   }
  },
  {
   "cell_type": "code",
   "execution_count": 5,
   "outputs": [],
   "source": [
    "# 数据集函数\n",
    "def get_data_loader(data_dir, batch_size=16):\n",
    "    transform = transforms.Compose([\n",
    "        transforms.Grayscale(),\n",
    "        transforms.ToTensor()\n",
    "    ])\n",
    "    dataset = torchvision.datasets.ImageFolder(data_dir, transform=transform)\n",
    "    return DataLoader(dataset, shuffle=True, batch_size=batch_size)"
   ],
   "metadata": {
    "collapsed": false,
    "pycharm": {
     "name": "#%%\n"
    }
   }
  },
  {
   "cell_type": "code",
   "execution_count": 7,
   "outputs": [],
   "source": [
    "train_loader = get_data_loader(os.path.join(data_root_dir, \"train\"), batch_size=32)\n",
    "val_loader = get_data_loader(os.path.join(data_root_dir, \"val\"), batch_size=32)\n",
    "test_loader = get_data_loader(os.path.join(data_root_dir, \"test\"), batch_size=32)\n",
    "num_classes = len(os.listdir(os.path.join(data_root_dir, \"train\")))\n",
    "model_name = \"Xception\"\n",
    "net = Xception(num_classes=num_classes).to(device=device)\n",
    "# 选择误差\n",
    "criterion = nn.CrossEntropyLoss()\n",
    "# 选择优化器\n",
    "optimizer = torch.optim.Adam(net.parameters(), lr=1e-3)\n",
    "# 结果位置\n",
    "output = open(\"log/base_classifier.txt\", \"a\")\n",
    "# 数据处理, 创建数据loader\n",
    "# 改变epoch\n",
    "n_epoch = 100\n",
    "best_model, best_accuracy, best_epoch = net, 0.0, 0\n",
    "tools.print_log(\"%s for jia: %s\" % (model_name, net), file=output)\n",
    "for epoch in range(n_epoch):\n",
    "    # 如果十次迭代之后模型仍然没有提升则提前结束\n",
    "    # if epoch - best_epoch >= 10:\n",
    "    #     break\n",
    "    tools.print_log(\"epoch %s/%s\" % (epoch, n_epoch), file=output)\n",
    "    net_train(net, train_loader, criterion, optimizer, output, epoch)  # 每个epoch训练一次，测试一次\n",
    "    accuracy = net_test(net, val_loader, output)\n",
    "    if accuracy > best_accuracy:\n",
    "        best_accuracy = accuracy\n",
    "        best_model = net\n",
    "        best_epoch = epoch\n",
    "    tools.print_log(\"Current accuracy of the network validation: %s\" % accuracy, file=output)\n",
    "    tools.print_log(\"Best accuracy of the network validation: %s\" % best_accuracy, file=output)\n",
    "    tools.print_log(\"Test accuracy of the network: %s\" % net_test(net, test_loader, output), file=output)\n",
    "# 保存最佳的模型\n",
    "torch.save(best_model, \"checkpoint/base_classifier.pkl\")"
   ],
   "metadata": {
    "collapsed": false,
    "pycharm": {
     "name": "#%%\n"
    }
   }
  },
  {
   "cell_type": "code",
   "execution_count": 6,
   "outputs": [],
   "source": [
    "\n"
   ],
   "metadata": {
    "collapsed": false,
    "pycharm": {
     "name": "#%%\n"
    }
   }
  }
 ],
 "metadata": {
  "kernelspec": {
   "display_name": "Python 3",
   "language": "python",
   "name": "python3"
  },
  "language_info": {
   "codemirror_mode": {
    "name": "ipython",
    "version": 2
   },
   "file_extension": ".py",
   "mimetype": "text/x-python",
   "name": "python",
   "nbconvert_exporter": "python",
   "pygments_lexer": "ipython2",
   "version": "2.7.6"
  }
 },
 "nbformat": 4,
 "nbformat_minor": 0
}